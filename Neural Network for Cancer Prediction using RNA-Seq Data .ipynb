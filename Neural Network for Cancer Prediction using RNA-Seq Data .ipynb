{
 "cells": [
  {
   "cell_type": "markdown",
   "id": "8ddb2cfa",
   "metadata": {},
   "source": [
    "# Neural Network for Cancer Prediction using RNA-Seq Data\n",
    "The data used for this tutorial is an RNA-seq gene expression data for different cancer types. The rows represent cancer samples and the columns represent gene count values. The last column contains the cancer categories.\n",
    "\n",
    "Data Source: https://archive.ics.uci.edu/dataset/401/gene+expression+cancer+rna+seq"
   ]
  },
  {
   "cell_type": "markdown",
   "id": "5f6ac85b",
   "metadata": {},
   "source": [
    "# Importing Libraries\n"
   ]
  },
  {
   "cell_type": "code",
   "execution_count": 1,
   "id": "37a03fa6",
   "metadata": {},
   "outputs": [
    {
     "name": "stderr",
     "output_type": "stream",
     "text": [
      "C:\\Users\\Lenovo\\anaconda3\\lib\\site-packages\\scipy\\__init__.py:155: UserWarning: A NumPy version >=1.18.5 and <1.25.0 is required for this version of SciPy (detected version 1.26.4\n",
      "  warnings.warn(f\"A NumPy version >={np_minversion} and <{np_maxversion}\"\n"
     ]
    }
   ],
   "source": [
    "#data handling\n",
    "import pandas as pd\n",
    "import numpy as np\n",
    "\n",
    "#data visualization\n",
    "import matplotlib.pyplot as plt\n",
    "import seaborn as sns\n",
    "\n",
    "#preprocessing\n",
    "from sklearn.model_selection import train_test_split\n",
    "from sklearn.preprocessing import LabelEncoder\n",
    "from sklearn.preprocessing import MinMaxScaler\n",
    "\n",
    "#classification\n",
    "import tensorflow as tf\n",
    "from tensorflow import keras\n",
    "from keras.models import Sequential\n",
    "from keras.layers import Dense"
   ]
  },
  {
   "cell_type": "markdown",
   "id": "60ab588a",
   "metadata": {},
   "source": [
    "# Reading the Data"
   ]
  },
  {
   "cell_type": "code",
   "execution_count": 2,
   "id": "9b6e253c",
   "metadata": {},
   "outputs": [],
   "source": [
    "dataframe = pd.read_csv(\"cancer_gene_expression.csv\")"
   ]
  },
  {
   "cell_type": "markdown",
   "id": "cd3abd65",
   "metadata": {},
   "source": [
    "# EDA and Data Cleaning"
   ]
  },
  {
   "cell_type": "code",
   "execution_count": 3,
   "id": "e852388b",
   "metadata": {},
   "outputs": [
    {
     "name": "stdout",
     "output_type": "stream",
     "text": [
      "(801, 8001)\n"
     ]
    }
   ],
   "source": [
    "#Let's check the number of samples and features\n",
    "#Note:the last column contain the labels. it is not considered as a feature\n",
    "\n",
    "print(dataframe.shape)"
   ]
  },
  {
   "cell_type": "code",
   "execution_count": 4,
   "id": "fe292b79",
   "metadata": {},
   "outputs": [
    {
     "name": "stdout",
     "output_type": "stream",
     "text": [
      "Index(['gene_1', 'gene_2', 'gene_3'], dtype='object')\n"
     ]
    }
   ],
   "source": [
    "#let's check some of the columns (first, second and third columns)\n",
    "print(dataframe.columns[0:3])"
   ]
  },
  {
   "cell_type": "code",
   "execution_count": 5,
   "id": "dc8cb86e",
   "metadata": {},
   "outputs": [
    {
     "data": {
      "text/plain": [
       "'Cancer_Type'"
      ]
     },
     "execution_count": 5,
     "metadata": {},
     "output_type": "execute_result"
    }
   ],
   "source": [
    "#lets check the name of the last column of this dataframe\n",
    "\n",
    "dataframe.columns[-1]"
   ]
  },
  {
   "cell_type": "code",
   "execution_count": 6,
   "id": "a4cbda96",
   "metadata": {},
   "outputs": [
    {
     "name": "stdout",
     "output_type": "stream",
     "text": [
      "columns with missing values:0\n"
     ]
    }
   ],
   "source": [
    "#check for missing values\n",
    "datanul=dataframe.isnull().sum()\n",
    "g=[i for i in datanul if i>0]\n",
    "\n",
    "print('columns with missing values:%d'%len(g))"
   ]
  },
  {
   "cell_type": "code",
   "execution_count": 7,
   "id": "d3ae1c5c",
   "metadata": {},
   "outputs": [
    {
     "name": "stdout",
     "output_type": "stream",
     "text": [
      "BRCA    300\n",
      "KIRC    146\n",
      "LUAD    141\n",
      "PRAD    136\n",
      "COAD     78\n",
      "Name: Cancer_Type, dtype: int64\n"
     ]
    }
   ],
   "source": [
    "#let's check how many different cancer types are there in the data\n",
    "#note: in this tutorial the cancer types will be referred to as classes or labels\n",
    "\n",
    "print(dataframe['Cancer_Type'].value_counts())"
   ]
  },
  {
   "cell_type": "markdown",
   "id": "4f7dc40d",
   "metadata": {},
   "source": [
    "We can see that there are 5 classes/cancer types. And you can also see the number of samples diagnosed with a cancer type"
   ]
  },
  {
   "cell_type": "markdown",
   "id": "61874517",
   "metadata": {},
   "source": [
    "# Data Preprocessing"
   ]
  },
  {
   "cell_type": "code",
   "execution_count": 8,
   "id": "af9a481c",
   "metadata": {},
   "outputs": [],
   "source": [
    "#we will now seperate the feature values from the class. we do this because scikit-learn requires that features and class are separated before parsing them to the classifiers.\n",
    "X=dataframe.iloc[:,0:-1]\n",
    "y=dataframe.iloc[:,-1]"
   ]
  },
  {
   "cell_type": "markdown",
   "id": "4ac0365c",
   "metadata": {},
   "source": [
    "Encode labels\n",
    "\n",
    "The labels for this data are categorical and we therefore have to convert them to numeric forms. This is referred to as encoding. Machine learning models usually require input data to be in numeric forms, hence we encoding the labels."
   ]
  },
  {
   "cell_type": "code",
   "execution_count": 9,
   "id": "7905ad2c",
   "metadata": {},
   "outputs": [],
   "source": [
    "#let's encode target labels (y) with values between 0 and n_classes-1.\n",
    "#encoding will be done using the LabelEncoder\n",
    "label_encoder=LabelEncoder()\n",
    "label_encoder.fit(y)\n",
    "y=label_encoder.transform(y)\n",
    "labels=label_encoder.classes_\n",
    "classes=np.unique(y)\n",
    "nclasses=np.unique(y).shape[0]"
   ]
  },
  {
   "cell_type": "markdown",
   "id": "b19cb62e",
   "metadata": {},
   "source": [
    "Data Splitting\n",
    "\n",
    "Data is split into three: Training, Validation and Test sets\n",
    "\n",
    "1.Training set is used for training\n",
    "\n",
    "2.Validation set is used for evaluating the model during training.\n",
    "\n",
    "3.Test set is used to test the model after training and tuning has been completed."
   ]
  },
  {
   "cell_type": "code",
   "execution_count": 10,
   "id": "e57eb851",
   "metadata": {},
   "outputs": [],
   "source": [
    "#split data into training,validation and test sets\n",
    "\n",
    "#split the data into training and test sets\n",
    "X_train,X_test,y_train,y_test=train_test_split(X,y,test_size=0.2)\n",
    "\n",
    "#split the training set into two (training and validation)\n",
    "X_train, X_val, y_train, y_val = train_test_split(X_train,y_train,test_size=0.2)"
   ]
  },
  {
   "cell_type": "markdown",
   "id": "32eb9e82",
   "metadata": {},
   "source": [
    "Data Normalization\n",
    "\n",
    "Data normalization is done so that the values are in the same range. This will improve model performance and avoid bias. Normalization is performed separately on each data set. This is done to prevent data leakage."
   ]
  },
  {
   "cell_type": "code",
   "execution_count": 11,
   "id": "4adb8bf3",
   "metadata": {},
   "outputs": [],
   "source": [
    "### scale the data between 0-1"
   ]
  },
  {
   "cell_type": "code",
   "execution_count": 12,
   "id": "af1aac92",
   "metadata": {},
   "outputs": [],
   "source": [
    "min_max_scaler=MinMaxScaler()\n",
    "X_train=min_max_scaler.fit_transform(X_train)\n",
    "X_val=min_max_scaler.fit_transform(X_val)\n",
    "X_test=min_max_scaler.fit_transform(X_test)"
   ]
  },
  {
   "cell_type": "markdown",
   "id": "b3918152",
   "metadata": {},
   "source": [
    "# Build the Neural Network Model"
   ]
  },
  {
   "cell_type": "code",
   "execution_count": 13,
   "id": "ccac97ee",
   "metadata": {},
   "outputs": [
    {
     "name": "stderr",
     "output_type": "stream",
     "text": [
      "C:\\Users\\Lenovo\\anaconda3\\lib\\site-packages\\keras\\src\\layers\\core\\dense.py:87: UserWarning: Do not pass an `input_shape`/`input_dim` argument to a layer. When using Sequential models, prefer using an `Input(shape)` object as the first layer in the model instead.\n",
      "  super().__init__(activity_regularizer=activity_regularizer, **kwargs)\n"
     ]
    }
   ],
   "source": [
    "#define model\n",
    "model = Sequential()\n",
    "\n",
    "#hidden layer 1\n",
    "model.add(Dense(40, input_dim=X_train.shape[1], activation='relu'))\n",
    "\n",
    "#hidden layer 2\n",
    "model.add(Dense(20, activation='relu'))\n",
    "\n",
    "#output layer\n",
    "model.add(Dense(nclasses, activation='softmax'))\n",
    "\n",
    "#define optimizer and learning rate. We will use Adam optimizer\n",
    "opt_adam = keras.optimizers.Adam(learning_rate=0.001)\n",
    "\n",
    "model.compile(loss=tf.keras.losses.SparseCategoricalCrossentropy(), optimizer=opt_adam, metrics=[keras.metrics.SparseCategoricalAccuracy()])"
   ]
  },
  {
   "cell_type": "code",
   "execution_count": 14,
   "id": "a3aa7fc4",
   "metadata": {},
   "outputs": [
    {
     "name": "stdout",
     "output_type": "stream",
     "text": [
      "Epoch 1/200\n",
      "\u001b[1m16/16\u001b[0m \u001b[32m━━━━━━━━━━━━━━━━━━━━\u001b[0m\u001b[37m\u001b[0m \u001b[1m6s\u001b[0m 60ms/step - loss: 1.5655 - sparse_categorical_accuracy: 0.3480 - val_loss: 0.8687 - val_sparse_categorical_accuracy: 0.8047\n",
      "Epoch 2/200\n",
      "\u001b[1m16/16\u001b[0m \u001b[32m━━━━━━━━━━━━━━━━━━━━\u001b[0m\u001b[37m\u001b[0m \u001b[1m1s\u001b[0m 14ms/step - loss: 0.8877 - sparse_categorical_accuracy: 0.7595 - val_loss: 0.5332 - val_sparse_categorical_accuracy: 0.8516\n",
      "Epoch 3/200\n",
      "\u001b[1m16/16\u001b[0m \u001b[32m━━━━━━━━━━━━━━━━━━━━\u001b[0m\u001b[37m\u001b[0m \u001b[1m0s\u001b[0m 11ms/step - loss: 0.5102 - sparse_categorical_accuracy: 0.9050 - val_loss: 0.2994 - val_sparse_categorical_accuracy: 0.9688\n",
      "Epoch 4/200\n",
      "\u001b[1m16/16\u001b[0m \u001b[32m━━━━━━━━━━━━━━━━━━━━\u001b[0m\u001b[37m\u001b[0m \u001b[1m0s\u001b[0m 10ms/step - loss: 0.2926 - sparse_categorical_accuracy: 0.9725 - val_loss: 0.2091 - val_sparse_categorical_accuracy: 0.9609\n",
      "Epoch 5/200\n",
      "\u001b[1m16/16\u001b[0m \u001b[32m━━━━━━━━━━━━━━━━━━━━\u001b[0m\u001b[37m\u001b[0m \u001b[1m0s\u001b[0m 8ms/step - loss: 0.1458 - sparse_categorical_accuracy: 0.9996 - val_loss: 0.1370 - val_sparse_categorical_accuracy: 0.9844\n",
      "Epoch 6/200\n",
      "\u001b[1m16/16\u001b[0m \u001b[32m━━━━━━━━━━━━━━━━━━━━\u001b[0m\u001b[37m\u001b[0m \u001b[1m0s\u001b[0m 8ms/step - loss: 0.0865 - sparse_categorical_accuracy: 0.9992 - val_loss: 0.0816 - val_sparse_categorical_accuracy: 0.9922\n",
      "Epoch 7/200\n",
      "\u001b[1m16/16\u001b[0m \u001b[32m━━━━━━━━━━━━━━━━━━━━\u001b[0m\u001b[37m\u001b[0m \u001b[1m0s\u001b[0m 9ms/step - loss: 0.0654 - sparse_categorical_accuracy: 1.0000 - val_loss: 0.0741 - val_sparse_categorical_accuracy: 0.9922\n",
      "Epoch 8/200\n",
      "\u001b[1m16/16\u001b[0m \u001b[32m━━━━━━━━━━━━━━━━━━━━\u001b[0m\u001b[37m\u001b[0m \u001b[1m0s\u001b[0m 8ms/step - loss: 0.0477 - sparse_categorical_accuracy: 1.0000 - val_loss: 0.0630 - val_sparse_categorical_accuracy: 0.9922\n",
      "Epoch 9/200\n",
      "\u001b[1m16/16\u001b[0m \u001b[32m━━━━━━━━━━━━━━━━━━━━\u001b[0m\u001b[37m\u001b[0m \u001b[1m0s\u001b[0m 8ms/step - loss: 0.0334 - sparse_categorical_accuracy: 1.0000 - val_loss: 0.0584 - val_sparse_categorical_accuracy: 0.9922\n",
      "Epoch 10/200\n",
      "\u001b[1m16/16\u001b[0m \u001b[32m━━━━━━━━━━━━━━━━━━━━\u001b[0m\u001b[37m\u001b[0m \u001b[1m0s\u001b[0m 8ms/step - loss: 0.0292 - sparse_categorical_accuracy: 1.0000 - val_loss: 0.0530 - val_sparse_categorical_accuracy: 0.9922\n",
      "Epoch 11/200\n",
      "\u001b[1m16/16\u001b[0m \u001b[32m━━━━━━━━━━━━━━━━━━━━\u001b[0m\u001b[37m\u001b[0m \u001b[1m0s\u001b[0m 9ms/step - loss: 0.0212 - sparse_categorical_accuracy: 1.0000 - val_loss: 0.0607 - val_sparse_categorical_accuracy: 0.9922\n",
      "Epoch 12/200\n",
      "\u001b[1m16/16\u001b[0m \u001b[32m━━━━━━━━━━━━━━━━━━━━\u001b[0m\u001b[37m\u001b[0m \u001b[1m0s\u001b[0m 12ms/step - loss: 0.0187 - sparse_categorical_accuracy: 1.0000 - val_loss: 0.0483 - val_sparse_categorical_accuracy: 0.9922\n",
      "Epoch 13/200\n",
      "\u001b[1m16/16\u001b[0m \u001b[32m━━━━━━━━━━━━━━━━━━━━\u001b[0m\u001b[37m\u001b[0m \u001b[1m0s\u001b[0m 8ms/step - loss: 0.0140 - sparse_categorical_accuracy: 1.0000 - val_loss: 0.0491 - val_sparse_categorical_accuracy: 0.9922\n",
      "Epoch 14/200\n",
      "\u001b[1m16/16\u001b[0m \u001b[32m━━━━━━━━━━━━━━━━━━━━\u001b[0m\u001b[37m\u001b[0m \u001b[1m0s\u001b[0m 7ms/step - loss: 0.0117 - sparse_categorical_accuracy: 1.0000 - val_loss: 0.0435 - val_sparse_categorical_accuracy: 0.9922\n",
      "Epoch 15/200\n",
      "\u001b[1m16/16\u001b[0m \u001b[32m━━━━━━━━━━━━━━━━━━━━\u001b[0m\u001b[37m\u001b[0m \u001b[1m0s\u001b[0m 8ms/step - loss: 0.0088 - sparse_categorical_accuracy: 1.0000 - val_loss: 0.0393 - val_sparse_categorical_accuracy: 0.9922\n",
      "Epoch 16/200\n",
      "\u001b[1m16/16\u001b[0m \u001b[32m━━━━━━━━━━━━━━━━━━━━\u001b[0m\u001b[37m\u001b[0m \u001b[1m0s\u001b[0m 7ms/step - loss: 0.0077 - sparse_categorical_accuracy: 1.0000 - val_loss: 0.0384 - val_sparse_categorical_accuracy: 0.9922\n",
      "Epoch 17/200\n",
      "\u001b[1m16/16\u001b[0m \u001b[32m━━━━━━━━━━━━━━━━━━━━\u001b[0m\u001b[37m\u001b[0m \u001b[1m0s\u001b[0m 8ms/step - loss: 0.0059 - sparse_categorical_accuracy: 1.0000 - val_loss: 0.0474 - val_sparse_categorical_accuracy: 0.9922\n",
      "Epoch 18/200\n",
      "\u001b[1m16/16\u001b[0m \u001b[32m━━━━━━━━━━━━━━━━━━━━\u001b[0m\u001b[37m\u001b[0m \u001b[1m0s\u001b[0m 8ms/step - loss: 0.0054 - sparse_categorical_accuracy: 1.0000 - val_loss: 0.0448 - val_sparse_categorical_accuracy: 0.9922\n",
      "Epoch 19/200\n",
      "\u001b[1m16/16\u001b[0m \u001b[32m━━━━━━━━━━━━━━━━━━━━\u001b[0m\u001b[37m\u001b[0m \u001b[1m0s\u001b[0m 9ms/step - loss: 0.0046 - sparse_categorical_accuracy: 1.0000 - val_loss: 0.0432 - val_sparse_categorical_accuracy: 0.9922\n",
      "Epoch 20/200\n",
      "\u001b[1m16/16\u001b[0m \u001b[32m━━━━━━━━━━━━━━━━━━━━\u001b[0m\u001b[37m\u001b[0m \u001b[1m0s\u001b[0m 9ms/step - loss: 0.0043 - sparse_categorical_accuracy: 1.0000 - val_loss: 0.0399 - val_sparse_categorical_accuracy: 0.9922\n",
      "Epoch 21/200\n",
      "\u001b[1m16/16\u001b[0m \u001b[32m━━━━━━━━━━━━━━━━━━━━\u001b[0m\u001b[37m\u001b[0m \u001b[1m0s\u001b[0m 9ms/step - loss: 0.0040 - sparse_categorical_accuracy: 1.0000 - val_loss: 0.0421 - val_sparse_categorical_accuracy: 0.9922\n",
      "Epoch 22/200\n",
      "\u001b[1m16/16\u001b[0m \u001b[32m━━━━━━━━━━━━━━━━━━━━\u001b[0m\u001b[37m\u001b[0m \u001b[1m0s\u001b[0m 8ms/step - loss: 0.0037 - sparse_categorical_accuracy: 1.0000 - val_loss: 0.0371 - val_sparse_categorical_accuracy: 0.9922\n",
      "Epoch 23/200\n",
      "\u001b[1m16/16\u001b[0m \u001b[32m━━━━━━━━━━━━━━━━━━━━\u001b[0m\u001b[37m\u001b[0m \u001b[1m0s\u001b[0m 10ms/step - loss: 0.0032 - sparse_categorical_accuracy: 1.0000 - val_loss: 0.0434 - val_sparse_categorical_accuracy: 0.9922\n",
      "Epoch 24/200\n",
      "\u001b[1m16/16\u001b[0m \u001b[32m━━━━━━━━━━━━━━━━━━━━\u001b[0m\u001b[37m\u001b[0m \u001b[1m0s\u001b[0m 8ms/step - loss: 0.0031 - sparse_categorical_accuracy: 1.0000 - val_loss: 0.0397 - val_sparse_categorical_accuracy: 0.9922\n",
      "Epoch 25/200\n",
      "\u001b[1m16/16\u001b[0m \u001b[32m━━━━━━━━━━━━━━━━━━━━\u001b[0m\u001b[37m\u001b[0m \u001b[1m0s\u001b[0m 8ms/step - loss: 0.0029 - sparse_categorical_accuracy: 1.0000 - val_loss: 0.0408 - val_sparse_categorical_accuracy: 0.9922\n",
      "Epoch 26/200\n",
      "\u001b[1m16/16\u001b[0m \u001b[32m━━━━━━━━━━━━━━━━━━━━\u001b[0m\u001b[37m\u001b[0m \u001b[1m0s\u001b[0m 9ms/step - loss: 0.0024 - sparse_categorical_accuracy: 1.0000 - val_loss: 0.0390 - val_sparse_categorical_accuracy: 0.9922\n",
      "Epoch 27/200\n",
      "\u001b[1m16/16\u001b[0m \u001b[32m━━━━━━━━━━━━━━━━━━━━\u001b[0m\u001b[37m\u001b[0m \u001b[1m0s\u001b[0m 13ms/step - loss: 0.0024 - sparse_categorical_accuracy: 1.0000 - val_loss: 0.0380 - val_sparse_categorical_accuracy: 0.9922\n",
      "Epoch 28/200\n",
      "\u001b[1m16/16\u001b[0m \u001b[32m━━━━━━━━━━━━━━━━━━━━\u001b[0m\u001b[37m\u001b[0m \u001b[1m0s\u001b[0m 12ms/step - loss: 0.0023 - sparse_categorical_accuracy: 1.0000 - val_loss: 0.0393 - val_sparse_categorical_accuracy: 0.9922\n",
      "Epoch 29/200\n",
      "\u001b[1m16/16\u001b[0m \u001b[32m━━━━━━━━━━━━━━━━━━━━\u001b[0m\u001b[37m\u001b[0m \u001b[1m0s\u001b[0m 14ms/step - loss: 0.0020 - sparse_categorical_accuracy: 1.0000 - val_loss: 0.0374 - val_sparse_categorical_accuracy: 0.9922\n",
      "Epoch 30/200\n",
      "\u001b[1m16/16\u001b[0m \u001b[32m━━━━━━━━━━━━━━━━━━━━\u001b[0m\u001b[37m\u001b[0m \u001b[1m0s\u001b[0m 11ms/step - loss: 0.0020 - sparse_categorical_accuracy: 1.0000 - val_loss: 0.0406 - val_sparse_categorical_accuracy: 0.9922\n",
      "Epoch 31/200\n",
      "\u001b[1m16/16\u001b[0m \u001b[32m━━━━━━━━━━━━━━━━━━━━\u001b[0m\u001b[37m\u001b[0m \u001b[1m0s\u001b[0m 13ms/step - loss: 0.0019 - sparse_categorical_accuracy: 1.0000 - val_loss: 0.0380 - val_sparse_categorical_accuracy: 0.9922\n",
      "Epoch 32/200\n",
      "\u001b[1m16/16\u001b[0m \u001b[32m━━━━━━━━━━━━━━━━━━━━\u001b[0m\u001b[37m\u001b[0m \u001b[1m0s\u001b[0m 9ms/step - loss: 0.0018 - sparse_categorical_accuracy: 1.0000 - val_loss: 0.0390 - val_sparse_categorical_accuracy: 0.9922\n",
      "Epoch 33/200\n",
      "\u001b[1m16/16\u001b[0m \u001b[32m━━━━━━━━━━━━━━━━━━━━\u001b[0m\u001b[37m\u001b[0m \u001b[1m0s\u001b[0m 9ms/step - loss: 0.0016 - sparse_categorical_accuracy: 1.0000 - val_loss: 0.0387 - val_sparse_categorical_accuracy: 0.9922\n",
      "Epoch 34/200\n",
      "\u001b[1m16/16\u001b[0m \u001b[32m━━━━━━━━━━━━━━━━━━━━\u001b[0m\u001b[37m\u001b[0m \u001b[1m0s\u001b[0m 8ms/step - loss: 0.0016 - sparse_categorical_accuracy: 1.0000 - val_loss: 0.0372 - val_sparse_categorical_accuracy: 0.9922\n",
      "Epoch 35/200\n",
      "\u001b[1m16/16\u001b[0m \u001b[32m━━━━━━━━━━━━━━━━━━━━\u001b[0m\u001b[37m\u001b[0m \u001b[1m0s\u001b[0m 9ms/step - loss: 0.0015 - sparse_categorical_accuracy: 1.0000 - val_loss: 0.0376 - val_sparse_categorical_accuracy: 0.9922\n",
      "Epoch 36/200\n",
      "\u001b[1m16/16\u001b[0m \u001b[32m━━━━━━━━━━━━━━━━━━━━\u001b[0m\u001b[37m\u001b[0m \u001b[1m0s\u001b[0m 10ms/step - loss: 0.0014 - sparse_categorical_accuracy: 1.0000 - val_loss: 0.0383 - val_sparse_categorical_accuracy: 0.9922\n",
      "Epoch 37/200\n",
      "\u001b[1m16/16\u001b[0m \u001b[32m━━━━━━━━━━━━━━━━━━━━\u001b[0m\u001b[37m\u001b[0m \u001b[1m0s\u001b[0m 10ms/step - loss: 0.0014 - sparse_categorical_accuracy: 1.0000 - val_loss: 0.0373 - val_sparse_categorical_accuracy: 0.9922\n",
      "Epoch 38/200\n",
      "\u001b[1m16/16\u001b[0m \u001b[32m━━━━━━━━━━━━━━━━━━━━\u001b[0m\u001b[37m\u001b[0m \u001b[1m0s\u001b[0m 9ms/step - loss: 0.0013 - sparse_categorical_accuracy: 1.0000 - val_loss: 0.0381 - val_sparse_categorical_accuracy: 0.9922\n",
      "Epoch 39/200\n",
      "\u001b[1m16/16\u001b[0m \u001b[32m━━━━━━━━━━━━━━━━━━━━\u001b[0m\u001b[37m\u001b[0m \u001b[1m0s\u001b[0m 9ms/step - loss: 0.0012 - sparse_categorical_accuracy: 1.0000 - val_loss: 0.0363 - val_sparse_categorical_accuracy: 0.9922\n",
      "Epoch 40/200\n",
      "\u001b[1m16/16\u001b[0m \u001b[32m━━━━━━━━━━━━━━━━━━━━\u001b[0m\u001b[37m\u001b[0m \u001b[1m0s\u001b[0m 10ms/step - loss: 0.0012 - sparse_categorical_accuracy: 1.0000 - val_loss: 0.0375 - val_sparse_categorical_accuracy: 0.9922\n",
      "Epoch 41/200\n",
      "\u001b[1m16/16\u001b[0m \u001b[32m━━━━━━━━━━━━━━━━━━━━\u001b[0m\u001b[37m\u001b[0m \u001b[1m0s\u001b[0m 9ms/step - loss: 0.0011 - sparse_categorical_accuracy: 1.0000 - val_loss: 0.0375 - val_sparse_categorical_accuracy: 0.9922\n",
      "Epoch 42/200\n",
      "\u001b[1m16/16\u001b[0m \u001b[32m━━━━━━━━━━━━━━━━━━━━\u001b[0m\u001b[37m\u001b[0m \u001b[1m0s\u001b[0m 8ms/step - loss: 0.0011 - sparse_categorical_accuracy: 1.0000 - val_loss: 0.0368 - val_sparse_categorical_accuracy: 0.9922\n",
      "Epoch 43/200\n",
      "\u001b[1m16/16\u001b[0m \u001b[32m━━━━━━━━━━━━━━━━━━━━\u001b[0m\u001b[37m\u001b[0m \u001b[1m0s\u001b[0m 8ms/step - loss: 0.0011 - sparse_categorical_accuracy: 1.0000 - val_loss: 0.0374 - val_sparse_categorical_accuracy: 0.9922\n",
      "Epoch 44/200\n",
      "\u001b[1m16/16\u001b[0m \u001b[32m━━━━━━━━━━━━━━━━━━━━\u001b[0m\u001b[37m\u001b[0m \u001b[1m0s\u001b[0m 10ms/step - loss: 0.0010 - sparse_categorical_accuracy: 1.0000 - val_loss: 0.0364 - val_sparse_categorical_accuracy: 0.9922\n",
      "Epoch 45/200\n",
      "\u001b[1m16/16\u001b[0m \u001b[32m━━━━━━━━━━━━━━━━━━━━\u001b[0m\u001b[37m\u001b[0m \u001b[1m0s\u001b[0m 10ms/step - loss: 9.2665e-04 - sparse_categorical_accuracy: 1.0000 - val_loss: 0.0376 - val_sparse_categorical_accuracy: 0.9922\n",
      "Epoch 46/200\n",
      "\u001b[1m16/16\u001b[0m \u001b[32m━━━━━━━━━━━━━━━━━━━━\u001b[0m\u001b[37m\u001b[0m \u001b[1m0s\u001b[0m 9ms/step - loss: 9.6159e-04 - sparse_categorical_accuracy: 1.0000 - val_loss: 0.0374 - val_sparse_categorical_accuracy: 0.9922\n",
      "Epoch 47/200\n",
      "\u001b[1m16/16\u001b[0m \u001b[32m━━━━━━━━━━━━━━━━━━━━\u001b[0m\u001b[37m\u001b[0m \u001b[1m0s\u001b[0m 10ms/step - loss: 8.1879e-04 - sparse_categorical_accuracy: 1.0000 - val_loss: 0.0372 - val_sparse_categorical_accuracy: 0.9922\n",
      "Epoch 48/200\n",
      "\u001b[1m16/16\u001b[0m \u001b[32m━━━━━━━━━━━━━━━━━━━━\u001b[0m\u001b[37m\u001b[0m \u001b[1m0s\u001b[0m 12ms/step - loss: 8.1119e-04 - sparse_categorical_accuracy: 1.0000 - val_loss: 0.0376 - val_sparse_categorical_accuracy: 0.9922\n",
      "Epoch 49/200\n",
      "\u001b[1m16/16\u001b[0m \u001b[32m━━━━━━━━━━━━━━━━━━━━\u001b[0m\u001b[37m\u001b[0m \u001b[1m0s\u001b[0m 10ms/step - loss: 7.5328e-04 - sparse_categorical_accuracy: 1.0000 - val_loss: 0.0369 - val_sparse_categorical_accuracy: 0.9922\n",
      "Epoch 50/200\n",
      "\u001b[1m16/16\u001b[0m \u001b[32m━━━━━━━━━━━━━━━━━━━━\u001b[0m\u001b[37m\u001b[0m \u001b[1m0s\u001b[0m 9ms/step - loss: 7.6208e-04 - sparse_categorical_accuracy: 1.0000 - val_loss: 0.0372 - val_sparse_categorical_accuracy: 0.9922\n",
      "Epoch 51/200\n",
      "\u001b[1m16/16\u001b[0m \u001b[32m━━━━━━━━━━━━━━━━━━━━\u001b[0m\u001b[37m\u001b[0m \u001b[1m0s\u001b[0m 10ms/step - loss: 8.0239e-04 - sparse_categorical_accuracy: 1.0000 - val_loss: 0.0378 - val_sparse_categorical_accuracy: 0.9922\n",
      "Epoch 52/200\n",
      "\u001b[1m16/16\u001b[0m \u001b[32m━━━━━━━━━━━━━━━━━━━━\u001b[0m\u001b[37m\u001b[0m \u001b[1m0s\u001b[0m 10ms/step - loss: 7.4309e-04 - sparse_categorical_accuracy: 1.0000 - val_loss: 0.0364 - val_sparse_categorical_accuracy: 0.9922\n",
      "Epoch 53/200\n",
      "\u001b[1m16/16\u001b[0m \u001b[32m━━━━━━━━━━━━━━━━━━━━\u001b[0m\u001b[37m\u001b[0m \u001b[1m0s\u001b[0m 9ms/step - loss: 6.9961e-04 - sparse_categorical_accuracy: 1.0000 - val_loss: 0.0367 - val_sparse_categorical_accuracy: 0.9922\n",
      "Epoch 54/200\n",
      "\u001b[1m16/16\u001b[0m \u001b[32m━━━━━━━━━━━━━━━━━━━━\u001b[0m\u001b[37m\u001b[0m \u001b[1m0s\u001b[0m 8ms/step - loss: 6.9823e-04 - sparse_categorical_accuracy: 1.0000 - val_loss: 0.0374 - val_sparse_categorical_accuracy: 0.9922\n",
      "Epoch 55/200\n",
      "\u001b[1m16/16\u001b[0m \u001b[32m━━━━━━━━━━━━━━━━━━━━\u001b[0m\u001b[37m\u001b[0m \u001b[1m0s\u001b[0m 8ms/step - loss: 5.9198e-04 - sparse_categorical_accuracy: 1.0000 - val_loss: 0.0365 - val_sparse_categorical_accuracy: 0.9922\n",
      "Epoch 56/200\n",
      "\u001b[1m16/16\u001b[0m \u001b[32m━━━━━━━━━━━━━━━━━━━━\u001b[0m\u001b[37m\u001b[0m \u001b[1m0s\u001b[0m 10ms/step - loss: 5.8943e-04 - sparse_categorical_accuracy: 1.0000 - val_loss: 0.0369 - val_sparse_categorical_accuracy: 0.9922\n",
      "Epoch 57/200\n",
      "\u001b[1m16/16\u001b[0m \u001b[32m━━━━━━━━━━━━━━━━━━━━\u001b[0m\u001b[37m\u001b[0m \u001b[1m0s\u001b[0m 9ms/step - loss: 5.9131e-04 - sparse_categorical_accuracy: 1.0000 - val_loss: 0.0370 - val_sparse_categorical_accuracy: 0.9922\n",
      "Epoch 58/200\n",
      "\u001b[1m16/16\u001b[0m \u001b[32m━━━━━━━━━━━━━━━━━━━━\u001b[0m\u001b[37m\u001b[0m \u001b[1m0s\u001b[0m 8ms/step - loss: 5.3025e-04 - sparse_categorical_accuracy: 1.0000 - val_loss: 0.0374 - val_sparse_categorical_accuracy: 0.9922\n",
      "Epoch 59/200\n",
      "\u001b[1m16/16\u001b[0m \u001b[32m━━━━━━━━━━━━━━━━━━━━\u001b[0m\u001b[37m\u001b[0m \u001b[1m0s\u001b[0m 10ms/step - loss: 5.8707e-04 - sparse_categorical_accuracy: 1.0000 - val_loss: 0.0368 - val_sparse_categorical_accuracy: 0.9922\n",
      "Epoch 60/200\n",
      "\u001b[1m16/16\u001b[0m \u001b[32m━━━━━━━━━━━━━━━━━━━━\u001b[0m\u001b[37m\u001b[0m \u001b[1m0s\u001b[0m 10ms/step - loss: 5.7853e-04 - sparse_categorical_accuracy: 1.0000 - val_loss: 0.0370 - val_sparse_categorical_accuracy: 0.9922\n",
      "Epoch 61/200\n",
      "\u001b[1m16/16\u001b[0m \u001b[32m━━━━━━━━━━━━━━━━━━━━\u001b[0m\u001b[37m\u001b[0m \u001b[1m0s\u001b[0m 10ms/step - loss: 5.2499e-04 - sparse_categorical_accuracy: 1.0000 - val_loss: 0.0374 - val_sparse_categorical_accuracy: 0.9922\n",
      "Epoch 62/200\n",
      "\u001b[1m16/16\u001b[0m \u001b[32m━━━━━━━━━━━━━━━━━━━━\u001b[0m\u001b[37m\u001b[0m \u001b[1m0s\u001b[0m 11ms/step - loss: 5.3912e-04 - sparse_categorical_accuracy: 1.0000 - val_loss: 0.0369 - val_sparse_categorical_accuracy: 0.9922\n",
      "Epoch 63/200\n",
      "\u001b[1m16/16\u001b[0m \u001b[32m━━━━━━━━━━━━━━━━━━━━\u001b[0m\u001b[37m\u001b[0m \u001b[1m0s\u001b[0m 11ms/step - loss: 4.6669e-04 - sparse_categorical_accuracy: 1.0000 - val_loss: 0.0371 - val_sparse_categorical_accuracy: 0.9922\n",
      "Epoch 64/200\n",
      "\u001b[1m16/16\u001b[0m \u001b[32m━━━━━━━━━━━━━━━━━━━━\u001b[0m\u001b[37m\u001b[0m \u001b[1m0s\u001b[0m 10ms/step - loss: 4.8925e-04 - sparse_categorical_accuracy: 1.0000 - val_loss: 0.0373 - val_sparse_categorical_accuracy: 0.9922\n",
      "Epoch 65/200\n",
      "\u001b[1m16/16\u001b[0m \u001b[32m━━━━━━━━━━━━━━━━━━━━\u001b[0m\u001b[37m\u001b[0m \u001b[1m0s\u001b[0m 9ms/step - loss: 4.6029e-04 - sparse_categorical_accuracy: 1.0000 - val_loss: 0.0376 - val_sparse_categorical_accuracy: 0.9922\n",
      "Epoch 66/200\n",
      "\u001b[1m16/16\u001b[0m \u001b[32m━━━━━━━━━━━━━━━━━━━━\u001b[0m\u001b[37m\u001b[0m \u001b[1m0s\u001b[0m 8ms/step - loss: 4.4481e-04 - sparse_categorical_accuracy: 1.0000 - val_loss: 0.0374 - val_sparse_categorical_accuracy: 0.9922\n",
      "Epoch 67/200\n",
      "\u001b[1m16/16\u001b[0m \u001b[32m━━━━━━━━━━━━━━━━━━━━\u001b[0m\u001b[37m\u001b[0m \u001b[1m0s\u001b[0m 8ms/step - loss: 4.4223e-04 - sparse_categorical_accuracy: 1.0000 - val_loss: 0.0372 - val_sparse_categorical_accuracy: 0.9922\n",
      "Epoch 68/200\n",
      "\u001b[1m16/16\u001b[0m \u001b[32m━━━━━━━━━━━━━━━━━━━━\u001b[0m\u001b[37m\u001b[0m \u001b[1m0s\u001b[0m 11ms/step - loss: 4.2267e-04 - sparse_categorical_accuracy: 1.0000 - val_loss: 0.0364 - val_sparse_categorical_accuracy: 0.9922\n",
      "Epoch 69/200\n",
      "\u001b[1m16/16\u001b[0m \u001b[32m━━━━━━━━━━━━━━━━━━━━\u001b[0m\u001b[37m\u001b[0m \u001b[1m0s\u001b[0m 11ms/step - loss: 4.2985e-04 - sparse_categorical_accuracy: 1.0000 - val_loss: 0.0374 - val_sparse_categorical_accuracy: 0.9922\n",
      "Epoch 70/200\n",
      "\u001b[1m16/16\u001b[0m \u001b[32m━━━━━━━━━━━━━━━━━━━━\u001b[0m\u001b[37m\u001b[0m \u001b[1m0s\u001b[0m 15ms/step - loss: 4.2268e-04 - sparse_categorical_accuracy: 1.0000 - val_loss: 0.0376 - val_sparse_categorical_accuracy: 0.9922\n",
      "Epoch 71/200\n",
      "\u001b[1m16/16\u001b[0m \u001b[32m━━━━━━━━━━━━━━━━━━━━\u001b[0m\u001b[37m\u001b[0m \u001b[1m0s\u001b[0m 8ms/step - loss: 4.0051e-04 - sparse_categorical_accuracy: 1.0000 - val_loss: 0.0368 - val_sparse_categorical_accuracy: 0.9922\n",
      "Epoch 72/200\n",
      "\u001b[1m16/16\u001b[0m \u001b[32m━━━━━━━━━━━━━━━━━━━━\u001b[0m\u001b[37m\u001b[0m \u001b[1m0s\u001b[0m 9ms/step - loss: 3.5976e-04 - sparse_categorical_accuracy: 1.0000 - val_loss: 0.0369 - val_sparse_categorical_accuracy: 0.9922\n",
      "Epoch 73/200\n",
      "\u001b[1m16/16\u001b[0m \u001b[32m━━━━━━━━━━━━━━━━━━━━\u001b[0m\u001b[37m\u001b[0m \u001b[1m0s\u001b[0m 8ms/step - loss: 3.5375e-04 - sparse_categorical_accuracy: 1.0000 - val_loss: 0.0382 - val_sparse_categorical_accuracy: 0.9922\n",
      "Epoch 74/200\n",
      "\u001b[1m16/16\u001b[0m \u001b[32m━━━━━━━━━━━━━━━━━━━━\u001b[0m\u001b[37m\u001b[0m \u001b[1m0s\u001b[0m 7ms/step - loss: 3.5713e-04 - sparse_categorical_accuracy: 1.0000 - val_loss: 0.0371 - val_sparse_categorical_accuracy: 0.9922\n",
      "Epoch 75/200\n",
      "\u001b[1m16/16\u001b[0m \u001b[32m━━━━━━━━━━━━━━━━━━━━\u001b[0m\u001b[37m\u001b[0m \u001b[1m0s\u001b[0m 9ms/step - loss: 3.5222e-04 - sparse_categorical_accuracy: 1.0000 - val_loss: 0.0372 - val_sparse_categorical_accuracy: 0.9922\n",
      "Epoch 76/200\n",
      "\u001b[1m16/16\u001b[0m \u001b[32m━━━━━━━━━━━━━━━━━━━━\u001b[0m\u001b[37m\u001b[0m \u001b[1m0s\u001b[0m 10ms/step - loss: 3.6000e-04 - sparse_categorical_accuracy: 1.0000 - val_loss: 0.0366 - val_sparse_categorical_accuracy: 0.9922\n",
      "Epoch 77/200\n",
      "\u001b[1m16/16\u001b[0m \u001b[32m━━━━━━━━━━━━━━━━━━━━\u001b[0m\u001b[37m\u001b[0m \u001b[1m0s\u001b[0m 8ms/step - loss: 3.5360e-04 - sparse_categorical_accuracy: 1.0000 - val_loss: 0.0376 - val_sparse_categorical_accuracy: 0.9922\n",
      "Epoch 78/200\n",
      "\u001b[1m16/16\u001b[0m \u001b[32m━━━━━━━━━━━━━━━━━━━━\u001b[0m\u001b[37m\u001b[0m \u001b[1m0s\u001b[0m 8ms/step - loss: 3.3614e-04 - sparse_categorical_accuracy: 1.0000 - val_loss: 0.0373 - val_sparse_categorical_accuracy: 0.9922\n",
      "Epoch 79/200\n",
      "\u001b[1m16/16\u001b[0m \u001b[32m━━━━━━━━━━━━━━━━━━━━\u001b[0m\u001b[37m\u001b[0m \u001b[1m0s\u001b[0m 8ms/step - loss: 3.1037e-04 - sparse_categorical_accuracy: 1.0000 - val_loss: 0.0377 - val_sparse_categorical_accuracy: 0.9922\n",
      "Epoch 80/200\n",
      "\u001b[1m16/16\u001b[0m \u001b[32m━━━━━━━━━━━━━━━━━━━━\u001b[0m\u001b[37m\u001b[0m \u001b[1m0s\u001b[0m 8ms/step - loss: 2.9949e-04 - sparse_categorical_accuracy: 1.0000 - val_loss: 0.0371 - val_sparse_categorical_accuracy: 0.9922\n",
      "Epoch 81/200\n",
      "\u001b[1m16/16\u001b[0m \u001b[32m━━━━━━━━━━━━━━━━━━━━\u001b[0m\u001b[37m\u001b[0m \u001b[1m0s\u001b[0m 8ms/step - loss: 3.0475e-04 - sparse_categorical_accuracy: 1.0000 - val_loss: 0.0378 - val_sparse_categorical_accuracy: 0.9922\n",
      "Epoch 82/200\n",
      "\u001b[1m16/16\u001b[0m \u001b[32m━━━━━━━━━━━━━━━━━━━━\u001b[0m\u001b[37m\u001b[0m \u001b[1m0s\u001b[0m 10ms/step - loss: 3.0933e-04 - sparse_categorical_accuracy: 1.0000 - val_loss: 0.0373 - val_sparse_categorical_accuracy: 0.9922\n",
      "Epoch 83/200\n",
      "\u001b[1m16/16\u001b[0m \u001b[32m━━━━━━━━━━━━━━━━━━━━\u001b[0m\u001b[37m\u001b[0m \u001b[1m0s\u001b[0m 9ms/step - loss: 2.7213e-04 - sparse_categorical_accuracy: 1.0000 - val_loss: 0.0371 - val_sparse_categorical_accuracy: 0.9922\n",
      "Epoch 84/200\n",
      "\u001b[1m16/16\u001b[0m \u001b[32m━━━━━━━━━━━━━━━━━━━━\u001b[0m\u001b[37m\u001b[0m \u001b[1m0s\u001b[0m 8ms/step - loss: 2.9506e-04 - sparse_categorical_accuracy: 1.0000 - val_loss: 0.0373 - val_sparse_categorical_accuracy: 0.9922\n",
      "Epoch 85/200\n",
      "\u001b[1m16/16\u001b[0m \u001b[32m━━━━━━━━━━━━━━━━━━━━\u001b[0m\u001b[37m\u001b[0m \u001b[1m0s\u001b[0m 8ms/step - loss: 2.6070e-04 - sparse_categorical_accuracy: 1.0000 - val_loss: 0.0370 - val_sparse_categorical_accuracy: 0.9922\n",
      "Epoch 86/200\n",
      "\u001b[1m16/16\u001b[0m \u001b[32m━━━━━━━━━━━━━━━━━━━━\u001b[0m\u001b[37m\u001b[0m \u001b[1m0s\u001b[0m 8ms/step - loss: 2.5717e-04 - sparse_categorical_accuracy: 1.0000 - val_loss: 0.0381 - val_sparse_categorical_accuracy: 0.9922\n",
      "Epoch 87/200\n",
      "\u001b[1m16/16\u001b[0m \u001b[32m━━━━━━━━━━━━━━━━━━━━\u001b[0m\u001b[37m\u001b[0m \u001b[1m0s\u001b[0m 8ms/step - loss: 2.7207e-04 - sparse_categorical_accuracy: 1.0000 - val_loss: 0.0371 - val_sparse_categorical_accuracy: 0.9922\n",
      "Epoch 88/200\n",
      "\u001b[1m16/16\u001b[0m \u001b[32m━━━━━━━━━━━━━━━━━━━━\u001b[0m\u001b[37m\u001b[0m \u001b[1m0s\u001b[0m 11ms/step - loss: 2.4164e-04 - sparse_categorical_accuracy: 1.0000 - val_loss: 0.0379 - val_sparse_categorical_accuracy: 0.9922\n",
      "Epoch 89/200\n",
      "\u001b[1m16/16\u001b[0m \u001b[32m━━━━━━━━━━━━━━━━━━━━\u001b[0m\u001b[37m\u001b[0m \u001b[1m0s\u001b[0m 9ms/step - loss: 2.4814e-04 - sparse_categorical_accuracy: 1.0000 - val_loss: 0.0375 - val_sparse_categorical_accuracy: 0.9922\n",
      "Epoch 90/200\n",
      "\u001b[1m16/16\u001b[0m \u001b[32m━━━━━━━━━━━━━━━━━━━━\u001b[0m\u001b[37m\u001b[0m \u001b[1m0s\u001b[0m 9ms/step - loss: 2.4110e-04 - sparse_categorical_accuracy: 1.0000 - val_loss: 0.0376 - val_sparse_categorical_accuracy: 0.9922\n",
      "Epoch 91/200\n",
      "\u001b[1m16/16\u001b[0m \u001b[32m━━━━━━━━━━━━━━━━━━━━\u001b[0m\u001b[37m\u001b[0m \u001b[1m0s\u001b[0m 7ms/step - loss: 2.2887e-04 - sparse_categorical_accuracy: 1.0000 - val_loss: 0.0377 - val_sparse_categorical_accuracy: 0.9922\n",
      "Epoch 92/200\n",
      "\u001b[1m16/16\u001b[0m \u001b[32m━━━━━━━━━━━━━━━━━━━━\u001b[0m\u001b[37m\u001b[0m \u001b[1m0s\u001b[0m 11ms/step - loss: 2.4675e-04 - sparse_categorical_accuracy: 1.0000 - val_loss: 0.0378 - val_sparse_categorical_accuracy: 0.9922\n",
      "Epoch 93/200\n",
      "\u001b[1m16/16\u001b[0m \u001b[32m━━━━━━━━━━━━━━━━━━━━\u001b[0m\u001b[37m\u001b[0m \u001b[1m0s\u001b[0m 8ms/step - loss: 2.2565e-04 - sparse_categorical_accuracy: 1.0000 - val_loss: 0.0377 - val_sparse_categorical_accuracy: 0.9922\n",
      "Epoch 94/200\n",
      "\u001b[1m16/16\u001b[0m \u001b[32m━━━━━━━━━━━━━━━━━━━━\u001b[0m\u001b[37m\u001b[0m \u001b[1m0s\u001b[0m 8ms/step - loss: 2.4053e-04 - sparse_categorical_accuracy: 1.0000 - val_loss: 0.0377 - val_sparse_categorical_accuracy: 0.9922\n",
      "Epoch 95/200\n",
      "\u001b[1m16/16\u001b[0m \u001b[32m━━━━━━━━━━━━━━━━━━━━\u001b[0m\u001b[37m\u001b[0m \u001b[1m0s\u001b[0m 8ms/step - loss: 2.2853e-04 - sparse_categorical_accuracy: 1.0000 - val_loss: 0.0376 - val_sparse_categorical_accuracy: 0.9922\n",
      "Epoch 96/200\n",
      "\u001b[1m16/16\u001b[0m \u001b[32m━━━━━━━━━━━━━━━━━━━━\u001b[0m\u001b[37m\u001b[0m \u001b[1m0s\u001b[0m 8ms/step - loss: 2.1332e-04 - sparse_categorical_accuracy: 1.0000 - val_loss: 0.0380 - val_sparse_categorical_accuracy: 0.9922\n",
      "Epoch 97/200\n",
      "\u001b[1m16/16\u001b[0m \u001b[32m━━━━━━━━━━━━━━━━━━━━\u001b[0m\u001b[37m\u001b[0m \u001b[1m0s\u001b[0m 8ms/step - loss: 2.1288e-04 - sparse_categorical_accuracy: 1.0000 - val_loss: 0.0373 - val_sparse_categorical_accuracy: 0.9922\n",
      "Epoch 98/200\n",
      "\u001b[1m16/16\u001b[0m \u001b[32m━━━━━━━━━━━━━━━━━━━━\u001b[0m\u001b[37m\u001b[0m \u001b[1m0s\u001b[0m 10ms/step - loss: 2.0659e-04 - sparse_categorical_accuracy: 1.0000 - val_loss: 0.0380 - val_sparse_categorical_accuracy: 0.9922\n",
      "Epoch 99/200\n",
      "\u001b[1m16/16\u001b[0m \u001b[32m━━━━━━━━━━━━━━━━━━━━\u001b[0m\u001b[37m\u001b[0m \u001b[1m0s\u001b[0m 8ms/step - loss: 2.0612e-04 - sparse_categorical_accuracy: 1.0000 - val_loss: 0.0377 - val_sparse_categorical_accuracy: 0.9922\n",
      "Epoch 100/200\n",
      "\u001b[1m16/16\u001b[0m \u001b[32m━━━━━━━━━━━━━━━━━━━━\u001b[0m\u001b[37m\u001b[0m \u001b[1m0s\u001b[0m 8ms/step - loss: 1.8614e-04 - sparse_categorical_accuracy: 1.0000 - val_loss: 0.0378 - val_sparse_categorical_accuracy: 0.9922\n",
      "Epoch 101/200\n",
      "\u001b[1m16/16\u001b[0m \u001b[32m━━━━━━━━━━━━━━━━━━━━\u001b[0m\u001b[37m\u001b[0m \u001b[1m0s\u001b[0m 8ms/step - loss: 1.9729e-04 - sparse_categorical_accuracy: 1.0000 - val_loss: 0.0379 - val_sparse_categorical_accuracy: 0.9922\n",
      "Epoch 102/200\n",
      "\u001b[1m16/16\u001b[0m \u001b[32m━━━━━━━━━━━━━━━━━━━━\u001b[0m\u001b[37m\u001b[0m \u001b[1m0s\u001b[0m 15ms/step - loss: 1.9965e-04 - sparse_categorical_accuracy: 1.0000 - val_loss: 0.0381 - val_sparse_categorical_accuracy: 0.9922\n",
      "Epoch 103/200\n",
      "\u001b[1m16/16\u001b[0m \u001b[32m━━━━━━━━━━━━━━━━━━━━\u001b[0m\u001b[37m\u001b[0m \u001b[1m0s\u001b[0m 8ms/step - loss: 1.9762e-04 - sparse_categorical_accuracy: 1.0000 - val_loss: 0.0382 - val_sparse_categorical_accuracy: 0.9922\n",
      "Epoch 104/200\n",
      "\u001b[1m16/16\u001b[0m \u001b[32m━━━━━━━━━━━━━━━━━━━━\u001b[0m\u001b[37m\u001b[0m \u001b[1m0s\u001b[0m 11ms/step - loss: 1.8289e-04 - sparse_categorical_accuracy: 1.0000 - val_loss: 0.0378 - val_sparse_categorical_accuracy: 0.9922\n",
      "Epoch 105/200\n",
      "\u001b[1m16/16\u001b[0m \u001b[32m━━━━━━━━━━━━━━━━━━━━\u001b[0m\u001b[37m\u001b[0m \u001b[1m0s\u001b[0m 10ms/step - loss: 1.8678e-04 - sparse_categorical_accuracy: 1.0000 - val_loss: 0.0381 - val_sparse_categorical_accuracy: 0.9922\n",
      "Epoch 106/200\n",
      "\u001b[1m16/16\u001b[0m \u001b[32m━━━━━━━━━━━━━━━━━━━━\u001b[0m\u001b[37m\u001b[0m \u001b[1m0s\u001b[0m 9ms/step - loss: 1.9491e-04 - sparse_categorical_accuracy: 1.0000 - val_loss: 0.0382 - val_sparse_categorical_accuracy: 0.9922\n",
      "Epoch 107/200\n",
      "\u001b[1m16/16\u001b[0m \u001b[32m━━━━━━━━━━━━━━━━━━━━\u001b[0m\u001b[37m\u001b[0m \u001b[1m0s\u001b[0m 9ms/step - loss: 1.5783e-04 - sparse_categorical_accuracy: 1.0000 - val_loss: 0.0379 - val_sparse_categorical_accuracy: 0.9922\n",
      "Epoch 108/200\n",
      "\u001b[1m16/16\u001b[0m \u001b[32m━━━━━━━━━━━━━━━━━━━━\u001b[0m\u001b[37m\u001b[0m \u001b[1m0s\u001b[0m 8ms/step - loss: 1.6835e-04 - sparse_categorical_accuracy: 1.0000 - val_loss: 0.0379 - val_sparse_categorical_accuracy: 0.9922\n",
      "Epoch 109/200\n",
      "\u001b[1m16/16\u001b[0m \u001b[32m━━━━━━━━━━━━━━━━━━━━\u001b[0m\u001b[37m\u001b[0m \u001b[1m0s\u001b[0m 12ms/step - loss: 1.6290e-04 - sparse_categorical_accuracy: 1.0000 - val_loss: 0.0384 - val_sparse_categorical_accuracy: 0.9922\n",
      "Epoch 110/200\n",
      "\u001b[1m16/16\u001b[0m \u001b[32m━━━━━━━━━━━━━━━━━━━━\u001b[0m\u001b[37m\u001b[0m \u001b[1m0s\u001b[0m 11ms/step - loss: 1.8268e-04 - sparse_categorical_accuracy: 1.0000 - val_loss: 0.0387 - val_sparse_categorical_accuracy: 0.9922\n",
      "Epoch 111/200\n",
      "\u001b[1m16/16\u001b[0m \u001b[32m━━━━━━━━━━━━━━━━━━━━\u001b[0m\u001b[37m\u001b[0m \u001b[1m0s\u001b[0m 10ms/step - loss: 1.6172e-04 - sparse_categorical_accuracy: 1.0000 - val_loss: 0.0381 - val_sparse_categorical_accuracy: 0.9922\n",
      "Epoch 112/200\n",
      "\u001b[1m16/16\u001b[0m \u001b[32m━━━━━━━━━━━━━━━━━━━━\u001b[0m\u001b[37m\u001b[0m \u001b[1m0s\u001b[0m 14ms/step - loss: 1.5189e-04 - sparse_categorical_accuracy: 1.0000 - val_loss: 0.0382 - val_sparse_categorical_accuracy: 0.9922\n",
      "Epoch 113/200\n",
      "\u001b[1m16/16\u001b[0m \u001b[32m━━━━━━━━━━━━━━━━━━━━\u001b[0m\u001b[37m\u001b[0m \u001b[1m0s\u001b[0m 12ms/step - loss: 1.5428e-04 - sparse_categorical_accuracy: 1.0000 - val_loss: 0.0389 - val_sparse_categorical_accuracy: 0.9922\n",
      "Epoch 114/200\n",
      "\u001b[1m16/16\u001b[0m \u001b[32m━━━━━━━━━━━━━━━━━━━━\u001b[0m\u001b[37m\u001b[0m \u001b[1m0s\u001b[0m 11ms/step - loss: 1.5902e-04 - sparse_categorical_accuracy: 1.0000 - val_loss: 0.0382 - val_sparse_categorical_accuracy: 0.9922\n",
      "Epoch 115/200\n",
      "\u001b[1m16/16\u001b[0m \u001b[32m━━━━━━━━━━━━━━━━━━━━\u001b[0m\u001b[37m\u001b[0m \u001b[1m0s\u001b[0m 10ms/step - loss: 1.5353e-04 - sparse_categorical_accuracy: 1.0000 - val_loss: 0.0385 - val_sparse_categorical_accuracy: 0.9922\n",
      "Epoch 116/200\n",
      "\u001b[1m16/16\u001b[0m \u001b[32m━━━━━━━━━━━━━━━━━━━━\u001b[0m\u001b[37m\u001b[0m \u001b[1m0s\u001b[0m 14ms/step - loss: 1.5245e-04 - sparse_categorical_accuracy: 1.0000 - val_loss: 0.0387 - val_sparse_categorical_accuracy: 0.9922\n",
      "Epoch 117/200\n",
      "\u001b[1m16/16\u001b[0m \u001b[32m━━━━━━━━━━━━━━━━━━━━\u001b[0m\u001b[37m\u001b[0m \u001b[1m0s\u001b[0m 11ms/step - loss: 1.4521e-04 - sparse_categorical_accuracy: 1.0000 - val_loss: 0.0384 - val_sparse_categorical_accuracy: 0.9922\n",
      "Epoch 118/200\n",
      "\u001b[1m16/16\u001b[0m \u001b[32m━━━━━━━━━━━━━━━━━━━━\u001b[0m\u001b[37m\u001b[0m \u001b[1m0s\u001b[0m 11ms/step - loss: 1.3378e-04 - sparse_categorical_accuracy: 1.0000 - val_loss: 0.0385 - val_sparse_categorical_accuracy: 0.9922\n",
      "Epoch 119/200\n",
      "\u001b[1m16/16\u001b[0m \u001b[32m━━━━━━━━━━━━━━━━━━━━\u001b[0m\u001b[37m\u001b[0m \u001b[1m0s\u001b[0m 10ms/step - loss: 1.3571e-04 - sparse_categorical_accuracy: 1.0000 - val_loss: 0.0387 - val_sparse_categorical_accuracy: 0.9922\n",
      "Epoch 120/200\n",
      "\u001b[1m16/16\u001b[0m \u001b[32m━━━━━━━━━━━━━━━━━━━━\u001b[0m\u001b[37m\u001b[0m \u001b[1m0s\u001b[0m 13ms/step - loss: 1.4208e-04 - sparse_categorical_accuracy: 1.0000 - val_loss: 0.0381 - val_sparse_categorical_accuracy: 0.9922\n",
      "Epoch 121/200\n",
      "\u001b[1m16/16\u001b[0m \u001b[32m━━━━━━━━━━━━━━━━━━━━\u001b[0m\u001b[37m\u001b[0m \u001b[1m0s\u001b[0m 10ms/step - loss: 1.4057e-04 - sparse_categorical_accuracy: 1.0000 - val_loss: 0.0392 - val_sparse_categorical_accuracy: 0.9922\n",
      "Epoch 122/200\n",
      "\u001b[1m16/16\u001b[0m \u001b[32m━━━━━━━━━━━━━━━━━━━━\u001b[0m\u001b[37m\u001b[0m \u001b[1m0s\u001b[0m 10ms/step - loss: 1.2384e-04 - sparse_categorical_accuracy: 1.0000 - val_loss: 0.0385 - val_sparse_categorical_accuracy: 0.9922\n",
      "Epoch 123/200\n",
      "\u001b[1m16/16\u001b[0m \u001b[32m━━━━━━━━━━━━━━━━━━━━\u001b[0m\u001b[37m\u001b[0m \u001b[1m0s\u001b[0m 11ms/step - loss: 1.1411e-04 - sparse_categorical_accuracy: 1.0000 - val_loss: 0.0384 - val_sparse_categorical_accuracy: 0.9922\n",
      "Epoch 124/200\n",
      "\u001b[1m16/16\u001b[0m \u001b[32m━━━━━━━━━━━━━━━━━━━━\u001b[0m\u001b[37m\u001b[0m \u001b[1m0s\u001b[0m 10ms/step - loss: 1.3054e-04 - sparse_categorical_accuracy: 1.0000 - val_loss: 0.0389 - val_sparse_categorical_accuracy: 0.9922\n",
      "Epoch 125/200\n",
      "\u001b[1m16/16\u001b[0m \u001b[32m━━━━━━━━━━━━━━━━━━━━\u001b[0m\u001b[37m\u001b[0m \u001b[1m0s\u001b[0m 11ms/step - loss: 1.1829e-04 - sparse_categorical_accuracy: 1.0000 - val_loss: 0.0386 - val_sparse_categorical_accuracy: 0.9922\n",
      "Epoch 126/200\n",
      "\u001b[1m16/16\u001b[0m \u001b[32m━━━━━━━━━━━━━━━━━━━━\u001b[0m\u001b[37m\u001b[0m \u001b[1m0s\u001b[0m 11ms/step - loss: 1.2303e-04 - sparse_categorical_accuracy: 1.0000 - val_loss: 0.0391 - val_sparse_categorical_accuracy: 0.9922\n",
      "Epoch 127/200\n",
      "\u001b[1m16/16\u001b[0m \u001b[32m━━━━━━━━━━━━━━━━━━━━\u001b[0m\u001b[37m\u001b[0m \u001b[1m0s\u001b[0m 9ms/step - loss: 1.1669e-04 - sparse_categorical_accuracy: 1.0000 - val_loss: 0.0392 - val_sparse_categorical_accuracy: 0.9922\n",
      "Epoch 128/200\n",
      "\u001b[1m16/16\u001b[0m \u001b[32m━━━━━━━━━━━━━━━━━━━━\u001b[0m\u001b[37m\u001b[0m \u001b[1m0s\u001b[0m 9ms/step - loss: 1.1184e-04 - sparse_categorical_accuracy: 1.0000 - val_loss: 0.0387 - val_sparse_categorical_accuracy: 0.9922\n",
      "Epoch 129/200\n",
      "\u001b[1m16/16\u001b[0m \u001b[32m━━━━━━━━━━━━━━━━━━━━\u001b[0m\u001b[37m\u001b[0m \u001b[1m0s\u001b[0m 9ms/step - loss: 1.1191e-04 - sparse_categorical_accuracy: 1.0000 - val_loss: 0.0393 - val_sparse_categorical_accuracy: 0.9922\n",
      "Epoch 130/200\n",
      "\u001b[1m16/16\u001b[0m \u001b[32m━━━━━━━━━━━━━━━━━━━━\u001b[0m\u001b[37m\u001b[0m \u001b[1m0s\u001b[0m 8ms/step - loss: 1.1415e-04 - sparse_categorical_accuracy: 1.0000 - val_loss: 0.0391 - val_sparse_categorical_accuracy: 0.9922\n",
      "Epoch 131/200\n",
      "\u001b[1m16/16\u001b[0m \u001b[32m━━━━━━━━━━━━━━━━━━━━\u001b[0m\u001b[37m\u001b[0m \u001b[1m0s\u001b[0m 10ms/step - loss: 1.0939e-04 - sparse_categorical_accuracy: 1.0000 - val_loss: 0.0391 - val_sparse_categorical_accuracy: 0.9922\n",
      "Epoch 132/200\n",
      "\u001b[1m16/16\u001b[0m \u001b[32m━━━━━━━━━━━━━━━━━━━━\u001b[0m\u001b[37m\u001b[0m \u001b[1m0s\u001b[0m 10ms/step - loss: 1.0225e-04 - sparse_categorical_accuracy: 1.0000 - val_loss: 0.0392 - val_sparse_categorical_accuracy: 0.9922\n",
      "Epoch 133/200\n",
      "\u001b[1m16/16\u001b[0m \u001b[32m━━━━━━━━━━━━━━━━━━━━\u001b[0m\u001b[37m\u001b[0m \u001b[1m0s\u001b[0m 11ms/step - loss: 9.4716e-05 - sparse_categorical_accuracy: 1.0000 - val_loss: 0.0383 - val_sparse_categorical_accuracy: 0.9922\n",
      "Epoch 134/200\n",
      "\u001b[1m16/16\u001b[0m \u001b[32m━━━━━━━━━━━━━━━━━━━━\u001b[0m\u001b[37m\u001b[0m \u001b[1m0s\u001b[0m 9ms/step - loss: 1.0740e-04 - sparse_categorical_accuracy: 1.0000 - val_loss: 0.0395 - val_sparse_categorical_accuracy: 0.9922\n",
      "Epoch 135/200\n",
      "\u001b[1m16/16\u001b[0m \u001b[32m━━━━━━━━━━━━━━━━━━━━\u001b[0m\u001b[37m\u001b[0m \u001b[1m0s\u001b[0m 8ms/step - loss: 1.0000e-04 - sparse_categorical_accuracy: 1.0000 - val_loss: 0.0395 - val_sparse_categorical_accuracy: 0.9922\n",
      "Epoch 136/200\n",
      "\u001b[1m16/16\u001b[0m \u001b[32m━━━━━━━━━━━━━━━━━━━━\u001b[0m\u001b[37m\u001b[0m \u001b[1m0s\u001b[0m 8ms/step - loss: 1.0295e-04 - sparse_categorical_accuracy: 1.0000 - val_loss: 0.0391 - val_sparse_categorical_accuracy: 0.9922\n",
      "Epoch 137/200\n",
      "\u001b[1m16/16\u001b[0m \u001b[32m━━━━━━━━━━━━━━━━━━━━\u001b[0m\u001b[37m\u001b[0m \u001b[1m0s\u001b[0m 8ms/step - loss: 9.9851e-05 - sparse_categorical_accuracy: 1.0000 - val_loss: 0.0395 - val_sparse_categorical_accuracy: 0.9922\n",
      "Epoch 138/200\n",
      "\u001b[1m16/16\u001b[0m \u001b[32m━━━━━━━━━━━━━━━━━━━━\u001b[0m\u001b[37m\u001b[0m \u001b[1m0s\u001b[0m 9ms/step - loss: 1.0115e-04 - sparse_categorical_accuracy: 1.0000 - val_loss: 0.0392 - val_sparse_categorical_accuracy: 0.9922\n",
      "Epoch 139/200\n",
      "\u001b[1m16/16\u001b[0m \u001b[32m━━━━━━━━━━━━━━━━━━━━\u001b[0m\u001b[37m\u001b[0m \u001b[1m0s\u001b[0m 11ms/step - loss: 8.9302e-05 - sparse_categorical_accuracy: 1.0000 - val_loss: 0.0390 - val_sparse_categorical_accuracy: 0.9922\n",
      "Epoch 140/200\n",
      "\u001b[1m16/16\u001b[0m \u001b[32m━━━━━━━━━━━━━━━━━━━━\u001b[0m\u001b[37m\u001b[0m \u001b[1m0s\u001b[0m 10ms/step - loss: 9.2386e-05 - sparse_categorical_accuracy: 1.0000 - val_loss: 0.0395 - val_sparse_categorical_accuracy: 0.9922\n",
      "Epoch 141/200\n",
      "\u001b[1m16/16\u001b[0m \u001b[32m━━━━━━━━━━━━━━━━━━━━\u001b[0m\u001b[37m\u001b[0m \u001b[1m0s\u001b[0m 10ms/step - loss: 9.1806e-05 - sparse_categorical_accuracy: 1.0000 - val_loss: 0.0393 - val_sparse_categorical_accuracy: 0.9922\n",
      "Epoch 142/200\n",
      "\u001b[1m16/16\u001b[0m \u001b[32m━━━━━━━━━━━━━━━━━━━━\u001b[0m\u001b[37m\u001b[0m \u001b[1m0s\u001b[0m 10ms/step - loss: 9.0739e-05 - sparse_categorical_accuracy: 1.0000 - val_loss: 0.0392 - val_sparse_categorical_accuracy: 0.9922\n",
      "Epoch 143/200\n",
      "\u001b[1m16/16\u001b[0m \u001b[32m━━━━━━━━━━━━━━━━━━━━\u001b[0m\u001b[37m\u001b[0m \u001b[1m0s\u001b[0m 11ms/step - loss: 9.3805e-05 - sparse_categorical_accuracy: 1.0000 - val_loss: 0.0399 - val_sparse_categorical_accuracy: 0.9922\n",
      "Epoch 144/200\n",
      "\u001b[1m16/16\u001b[0m \u001b[32m━━━━━━━━━━━━━━━━━━━━\u001b[0m\u001b[37m\u001b[0m \u001b[1m0s\u001b[0m 11ms/step - loss: 9.8072e-05 - sparse_categorical_accuracy: 1.0000 - val_loss: 0.0394 - val_sparse_categorical_accuracy: 0.9922\n",
      "Epoch 145/200\n",
      "\u001b[1m16/16\u001b[0m \u001b[32m━━━━━━━━━━━━━━━━━━━━\u001b[0m\u001b[37m\u001b[0m \u001b[1m0s\u001b[0m 10ms/step - loss: 8.7421e-05 - sparse_categorical_accuracy: 1.0000 - val_loss: 0.0394 - val_sparse_categorical_accuracy: 0.9922\n",
      "Epoch 146/200\n",
      "\u001b[1m16/16\u001b[0m \u001b[32m━━━━━━━━━━━━━━━━━━━━\u001b[0m\u001b[37m\u001b[0m \u001b[1m0s\u001b[0m 12ms/step - loss: 8.2129e-05 - sparse_categorical_accuracy: 1.0000 - val_loss: 0.0396 - val_sparse_categorical_accuracy: 0.9922\n",
      "Epoch 147/200\n",
      "\u001b[1m16/16\u001b[0m \u001b[32m━━━━━━━━━━━━━━━━━━━━\u001b[0m\u001b[37m\u001b[0m \u001b[1m0s\u001b[0m 10ms/step - loss: 7.9791e-05 - sparse_categorical_accuracy: 1.0000 - val_loss: 0.0395 - val_sparse_categorical_accuracy: 0.9922\n",
      "Epoch 148/200\n",
      "\u001b[1m16/16\u001b[0m \u001b[32m━━━━━━━━━━━━━━━━━━━━\u001b[0m\u001b[37m\u001b[0m \u001b[1m0s\u001b[0m 10ms/step - loss: 8.4496e-05 - sparse_categorical_accuracy: 1.0000 - val_loss: 0.0396 - val_sparse_categorical_accuracy: 0.9922\n",
      "Epoch 149/200\n",
      "\u001b[1m16/16\u001b[0m \u001b[32m━━━━━━━━━━━━━━━━━━━━\u001b[0m\u001b[37m\u001b[0m \u001b[1m0s\u001b[0m 10ms/step - loss: 8.1154e-05 - sparse_categorical_accuracy: 1.0000 - val_loss: 0.0401 - val_sparse_categorical_accuracy: 0.9922\n",
      "Epoch 150/200\n",
      "\u001b[1m16/16\u001b[0m \u001b[32m━━━━━━━━━━━━━━━━━━━━\u001b[0m\u001b[37m\u001b[0m \u001b[1m0s\u001b[0m 11ms/step - loss: 8.0534e-05 - sparse_categorical_accuracy: 1.0000 - val_loss: 0.0399 - val_sparse_categorical_accuracy: 0.9922\n",
      "Epoch 151/200\n",
      "\u001b[1m16/16\u001b[0m \u001b[32m━━━━━━━━━━━━━━━━━━━━\u001b[0m\u001b[37m\u001b[0m \u001b[1m0s\u001b[0m 12ms/step - loss: 8.0920e-05 - sparse_categorical_accuracy: 1.0000 - val_loss: 0.0397 - val_sparse_categorical_accuracy: 0.9922\n",
      "Epoch 152/200\n",
      "\u001b[1m16/16\u001b[0m \u001b[32m━━━━━━━━━━━━━━━━━━━━\u001b[0m\u001b[37m\u001b[0m \u001b[1m0s\u001b[0m 14ms/step - loss: 7.3553e-05 - sparse_categorical_accuracy: 1.0000 - val_loss: 0.0395 - val_sparse_categorical_accuracy: 0.9922\n",
      "Epoch 153/200\n",
      "\u001b[1m16/16\u001b[0m \u001b[32m━━━━━━━━━━━━━━━━━━━━\u001b[0m\u001b[37m\u001b[0m \u001b[1m0s\u001b[0m 8ms/step - loss: 8.2785e-05 - sparse_categorical_accuracy: 1.0000 - val_loss: 0.0396 - val_sparse_categorical_accuracy: 0.9922\n",
      "Epoch 154/200\n",
      "\u001b[1m16/16\u001b[0m \u001b[32m━━━━━━━━━━━━━━━━━━━━\u001b[0m\u001b[37m\u001b[0m \u001b[1m0s\u001b[0m 10ms/step - loss: 7.9836e-05 - sparse_categorical_accuracy: 1.0000 - val_loss: 0.0398 - val_sparse_categorical_accuracy: 0.9922\n",
      "Epoch 155/200\n",
      "\u001b[1m16/16\u001b[0m \u001b[32m━━━━━━━━━━━━━━━━━━━━\u001b[0m\u001b[37m\u001b[0m \u001b[1m0s\u001b[0m 8ms/step - loss: 7.7487e-05 - sparse_categorical_accuracy: 1.0000 - val_loss: 0.0400 - val_sparse_categorical_accuracy: 0.9922\n",
      "Epoch 156/200\n",
      "\u001b[1m16/16\u001b[0m \u001b[32m━━━━━━━━━━━━━━━━━━━━\u001b[0m\u001b[37m\u001b[0m \u001b[1m0s\u001b[0m 8ms/step - loss: 6.6449e-05 - sparse_categorical_accuracy: 1.0000 - val_loss: 0.0398 - val_sparse_categorical_accuracy: 0.9922\n",
      "Epoch 157/200\n",
      "\u001b[1m16/16\u001b[0m \u001b[32m━━━━━━━━━━━━━━━━━━━━\u001b[0m\u001b[37m\u001b[0m \u001b[1m0s\u001b[0m 10ms/step - loss: 7.4505e-05 - sparse_categorical_accuracy: 1.0000 - val_loss: 0.0398 - val_sparse_categorical_accuracy: 0.9922\n",
      "Epoch 158/200\n",
      "\u001b[1m16/16\u001b[0m \u001b[32m━━━━━━━━━━━━━━━━━━━━\u001b[0m\u001b[37m\u001b[0m \u001b[1m0s\u001b[0m 8ms/step - loss: 7.1599e-05 - sparse_categorical_accuracy: 1.0000 - val_loss: 0.0401 - val_sparse_categorical_accuracy: 0.9922\n",
      "Epoch 159/200\n",
      "\u001b[1m16/16\u001b[0m \u001b[32m━━━━━━━━━━━━━━━━━━━━\u001b[0m\u001b[37m\u001b[0m \u001b[1m0s\u001b[0m 8ms/step - loss: 7.3498e-05 - sparse_categorical_accuracy: 1.0000 - val_loss: 0.0401 - val_sparse_categorical_accuracy: 0.9922\n",
      "Epoch 160/200\n",
      "\u001b[1m16/16\u001b[0m \u001b[32m━━━━━━━━━━━━━━━━━━━━\u001b[0m\u001b[37m\u001b[0m \u001b[1m0s\u001b[0m 13ms/step - loss: 6.8516e-05 - sparse_categorical_accuracy: 1.0000 - val_loss: 0.0399 - val_sparse_categorical_accuracy: 0.9922\n",
      "Epoch 161/200\n",
      "\u001b[1m16/16\u001b[0m \u001b[32m━━━━━━━━━━━━━━━━━━━━\u001b[0m\u001b[37m\u001b[0m \u001b[1m0s\u001b[0m 11ms/step - loss: 7.2350e-05 - sparse_categorical_accuracy: 1.0000 - val_loss: 0.0400 - val_sparse_categorical_accuracy: 0.9922\n",
      "Epoch 162/200\n",
      "\u001b[1m16/16\u001b[0m \u001b[32m━━━━━━━━━━━━━━━━━━━━\u001b[0m\u001b[37m\u001b[0m \u001b[1m0s\u001b[0m 9ms/step - loss: 6.7060e-05 - sparse_categorical_accuracy: 1.0000 - val_loss: 0.0403 - val_sparse_categorical_accuracy: 0.9922\n",
      "Epoch 163/200\n",
      "\u001b[1m16/16\u001b[0m \u001b[32m━━━━━━━━━━━━━━━━━━━━\u001b[0m\u001b[37m\u001b[0m \u001b[1m0s\u001b[0m 7ms/step - loss: 6.9539e-05 - sparse_categorical_accuracy: 1.0000 - val_loss: 0.0402 - val_sparse_categorical_accuracy: 0.9922\n",
      "Epoch 164/200\n",
      "\u001b[1m16/16\u001b[0m \u001b[32m━━━━━━━━━━━━━━━━━━━━\u001b[0m\u001b[37m\u001b[0m \u001b[1m0s\u001b[0m 8ms/step - loss: 6.4144e-05 - sparse_categorical_accuracy: 1.0000 - val_loss: 0.0402 - val_sparse_categorical_accuracy: 0.9922\n",
      "Epoch 165/200\n",
      "\u001b[1m16/16\u001b[0m \u001b[32m━━━━━━━━━━━━━━━━━━━━\u001b[0m\u001b[37m\u001b[0m \u001b[1m0s\u001b[0m 7ms/step - loss: 6.6595e-05 - sparse_categorical_accuracy: 1.0000 - val_loss: 0.0399 - val_sparse_categorical_accuracy: 0.9922\n",
      "Epoch 166/200\n",
      "\u001b[1m16/16\u001b[0m \u001b[32m━━━━━━━━━━━━━━━━━━━━\u001b[0m\u001b[37m\u001b[0m \u001b[1m0s\u001b[0m 10ms/step - loss: 5.9919e-05 - sparse_categorical_accuracy: 1.0000 - val_loss: 0.0402 - val_sparse_categorical_accuracy: 0.9922\n",
      "Epoch 167/200\n",
      "\u001b[1m16/16\u001b[0m \u001b[32m━━━━━━━━━━━━━━━━━━━━\u001b[0m\u001b[37m\u001b[0m \u001b[1m0s\u001b[0m 10ms/step - loss: 6.1158e-05 - sparse_categorical_accuracy: 1.0000 - val_loss: 0.0404 - val_sparse_categorical_accuracy: 0.9922\n",
      "Epoch 168/200\n",
      "\u001b[1m16/16\u001b[0m \u001b[32m━━━━━━━━━━━━━━━━━━━━\u001b[0m\u001b[37m\u001b[0m \u001b[1m0s\u001b[0m 10ms/step - loss: 6.3953e-05 - sparse_categorical_accuracy: 1.0000 - val_loss: 0.0403 - val_sparse_categorical_accuracy: 0.9922\n",
      "Epoch 169/200\n",
      "\u001b[1m16/16\u001b[0m \u001b[32m━━━━━━━━━━━━━━━━━━━━\u001b[0m\u001b[37m\u001b[0m \u001b[1m0s\u001b[0m 10ms/step - loss: 6.1707e-05 - sparse_categorical_accuracy: 1.0000 - val_loss: 0.0405 - val_sparse_categorical_accuracy: 0.9922\n",
      "Epoch 170/200\n",
      "\u001b[1m16/16\u001b[0m \u001b[32m━━━━━━━━━━━━━━━━━━━━\u001b[0m\u001b[37m\u001b[0m \u001b[1m0s\u001b[0m 11ms/step - loss: 5.9262e-05 - sparse_categorical_accuracy: 1.0000 - val_loss: 0.0406 - val_sparse_categorical_accuracy: 0.9922\n",
      "Epoch 171/200\n",
      "\u001b[1m16/16\u001b[0m \u001b[32m━━━━━━━━━━━━━━━━━━━━\u001b[0m\u001b[37m\u001b[0m \u001b[1m0s\u001b[0m 10ms/step - loss: 5.5584e-05 - sparse_categorical_accuracy: 1.0000 - val_loss: 0.0403 - val_sparse_categorical_accuracy: 0.9922\n",
      "Epoch 172/200\n",
      "\u001b[1m16/16\u001b[0m \u001b[32m━━━━━━━━━━━━━━━━━━━━\u001b[0m\u001b[37m\u001b[0m \u001b[1m0s\u001b[0m 10ms/step - loss: 5.9670e-05 - sparse_categorical_accuracy: 1.0000 - val_loss: 0.0405 - val_sparse_categorical_accuracy: 0.9922\n",
      "Epoch 173/200\n",
      "\u001b[1m16/16\u001b[0m \u001b[32m━━━━━━━━━━━━━━━━━━━━\u001b[0m\u001b[37m\u001b[0m \u001b[1m0s\u001b[0m 12ms/step - loss: 5.6817e-05 - sparse_categorical_accuracy: 1.0000 - val_loss: 0.0407 - val_sparse_categorical_accuracy: 0.9922\n",
      "Epoch 174/200\n",
      "\u001b[1m16/16\u001b[0m \u001b[32m━━━━━━━━━━━━━━━━━━━━\u001b[0m\u001b[37m\u001b[0m \u001b[1m0s\u001b[0m 11ms/step - loss: 5.7763e-05 - sparse_categorical_accuracy: 1.0000 - val_loss: 0.0404 - val_sparse_categorical_accuracy: 0.9922\n",
      "Epoch 175/200\n",
      "\u001b[1m16/16\u001b[0m \u001b[32m━━━━━━━━━━━━━━━━━━━━\u001b[0m\u001b[37m\u001b[0m \u001b[1m0s\u001b[0m 11ms/step - loss: 5.4051e-05 - sparse_categorical_accuracy: 1.0000 - val_loss: 0.0406 - val_sparse_categorical_accuracy: 0.9922\n",
      "Epoch 176/200\n",
      "\u001b[1m16/16\u001b[0m \u001b[32m━━━━━━━━━━━━━━━━━━━━\u001b[0m\u001b[37m\u001b[0m \u001b[1m0s\u001b[0m 11ms/step - loss: 5.9574e-05 - sparse_categorical_accuracy: 1.0000 - val_loss: 0.0407 - val_sparse_categorical_accuracy: 0.9922\n",
      "Epoch 177/200\n",
      "\u001b[1m16/16\u001b[0m \u001b[32m━━━━━━━━━━━━━━━━━━━━\u001b[0m\u001b[37m\u001b[0m \u001b[1m0s\u001b[0m 9ms/step - loss: 5.3547e-05 - sparse_categorical_accuracy: 1.0000 - val_loss: 0.0406 - val_sparse_categorical_accuracy: 0.9922\n",
      "Epoch 178/200\n",
      "\u001b[1m16/16\u001b[0m \u001b[32m━━━━━━━━━━━━━━━━━━━━\u001b[0m\u001b[37m\u001b[0m \u001b[1m0s\u001b[0m 8ms/step - loss: 5.2406e-05 - sparse_categorical_accuracy: 1.0000 - val_loss: 0.0405 - val_sparse_categorical_accuracy: 0.9922\n",
      "Epoch 179/200\n",
      "\u001b[1m16/16\u001b[0m \u001b[32m━━━━━━━━━━━━━━━━━━━━\u001b[0m\u001b[37m\u001b[0m \u001b[1m0s\u001b[0m 8ms/step - loss: 5.0459e-05 - sparse_categorical_accuracy: 1.0000 - val_loss: 0.0408 - val_sparse_categorical_accuracy: 0.9922\n",
      "Epoch 180/200\n",
      "\u001b[1m16/16\u001b[0m \u001b[32m━━━━━━━━━━━━━━━━━━━━\u001b[0m\u001b[37m\u001b[0m \u001b[1m0s\u001b[0m 8ms/step - loss: 5.3821e-05 - sparse_categorical_accuracy: 1.0000 - val_loss: 0.0408 - val_sparse_categorical_accuracy: 0.9922\n",
      "Epoch 181/200\n",
      "\u001b[1m16/16\u001b[0m \u001b[32m━━━━━━━━━━━━━━━━━━━━\u001b[0m\u001b[37m\u001b[0m \u001b[1m0s\u001b[0m 8ms/step - loss: 4.9373e-05 - sparse_categorical_accuracy: 1.0000 - val_loss: 0.0409 - val_sparse_categorical_accuracy: 0.9922\n",
      "Epoch 182/200\n",
      "\u001b[1m16/16\u001b[0m \u001b[32m━━━━━━━━━━━━━━━━━━━━\u001b[0m\u001b[37m\u001b[0m \u001b[1m0s\u001b[0m 8ms/step - loss: 5.3504e-05 - sparse_categorical_accuracy: 1.0000 - val_loss: 0.0409 - val_sparse_categorical_accuracy: 0.9922\n",
      "Epoch 183/200\n",
      "\u001b[1m16/16\u001b[0m \u001b[32m━━━━━━━━━━━━━━━━━━━━\u001b[0m\u001b[37m\u001b[0m \u001b[1m0s\u001b[0m 9ms/step - loss: 5.1336e-05 - sparse_categorical_accuracy: 1.0000 - val_loss: 0.0409 - val_sparse_categorical_accuracy: 0.9922\n",
      "Epoch 184/200\n",
      "\u001b[1m16/16\u001b[0m \u001b[32m━━━━━━━━━━━━━━━━━━━━\u001b[0m\u001b[37m\u001b[0m \u001b[1m0s\u001b[0m 8ms/step - loss: 5.4073e-05 - sparse_categorical_accuracy: 1.0000 - val_loss: 0.0408 - val_sparse_categorical_accuracy: 0.9922\n",
      "Epoch 185/200\n",
      "\u001b[1m16/16\u001b[0m \u001b[32m━━━━━━━━━━━━━━━━━━━━\u001b[0m\u001b[37m\u001b[0m \u001b[1m0s\u001b[0m 8ms/step - loss: 4.9427e-05 - sparse_categorical_accuracy: 1.0000 - val_loss: 0.0411 - val_sparse_categorical_accuracy: 0.9922\n",
      "Epoch 186/200\n",
      "\u001b[1m16/16\u001b[0m \u001b[32m━━━━━━━━━━━━━━━━━━━━\u001b[0m\u001b[37m\u001b[0m \u001b[1m0s\u001b[0m 8ms/step - loss: 4.6159e-05 - sparse_categorical_accuracy: 1.0000 - val_loss: 0.0411 - val_sparse_categorical_accuracy: 0.9922\n",
      "Epoch 187/200\n",
      "\u001b[1m16/16\u001b[0m \u001b[32m━━━━━━━━━━━━━━━━━━━━\u001b[0m\u001b[37m\u001b[0m \u001b[1m0s\u001b[0m 10ms/step - loss: 4.8995e-05 - sparse_categorical_accuracy: 1.0000 - val_loss: 0.0408 - val_sparse_categorical_accuracy: 0.9922\n",
      "Epoch 188/200\n",
      "\u001b[1m16/16\u001b[0m \u001b[32m━━━━━━━━━━━━━━━━━━━━\u001b[0m\u001b[37m\u001b[0m \u001b[1m0s\u001b[0m 8ms/step - loss: 4.6525e-05 - sparse_categorical_accuracy: 1.0000 - val_loss: 0.0412 - val_sparse_categorical_accuracy: 0.9922\n",
      "Epoch 189/200\n",
      "\u001b[1m16/16\u001b[0m \u001b[32m━━━━━━━━━━━━━━━━━━━━\u001b[0m\u001b[37m\u001b[0m \u001b[1m0s\u001b[0m 8ms/step - loss: 4.6668e-05 - sparse_categorical_accuracy: 1.0000 - val_loss: 0.0413 - val_sparse_categorical_accuracy: 0.9922\n",
      "Epoch 190/200\n",
      "\u001b[1m16/16\u001b[0m \u001b[32m━━━━━━━━━━━━━━━━━━━━\u001b[0m\u001b[37m\u001b[0m \u001b[1m0s\u001b[0m 8ms/step - loss: 4.5799e-05 - sparse_categorical_accuracy: 1.0000 - val_loss: 0.0412 - val_sparse_categorical_accuracy: 0.9922\n",
      "Epoch 191/200\n",
      "\u001b[1m16/16\u001b[0m \u001b[32m━━━━━━━━━━━━━━━━━━━━\u001b[0m\u001b[37m\u001b[0m \u001b[1m0s\u001b[0m 10ms/step - loss: 4.7999e-05 - sparse_categorical_accuracy: 1.0000 - val_loss: 0.0410 - val_sparse_categorical_accuracy: 0.9922\n",
      "Epoch 192/200\n",
      "\u001b[1m16/16\u001b[0m \u001b[32m━━━━━━━━━━━━━━━━━━━━\u001b[0m\u001b[37m\u001b[0m \u001b[1m0s\u001b[0m 10ms/step - loss: 4.2073e-05 - sparse_categorical_accuracy: 1.0000 - val_loss: 0.0410 - val_sparse_categorical_accuracy: 0.9922\n",
      "Epoch 193/200\n",
      "\u001b[1m16/16\u001b[0m \u001b[32m━━━━━━━━━━━━━━━━━━━━\u001b[0m\u001b[37m\u001b[0m \u001b[1m0s\u001b[0m 8ms/step - loss: 4.4923e-05 - sparse_categorical_accuracy: 1.0000 - val_loss: 0.0414 - val_sparse_categorical_accuracy: 0.9922\n",
      "Epoch 194/200\n",
      "\u001b[1m16/16\u001b[0m \u001b[32m━━━━━━━━━━━━━━━━━━━━\u001b[0m\u001b[37m\u001b[0m \u001b[1m0s\u001b[0m 12ms/step - loss: 4.8452e-05 - sparse_categorical_accuracy: 1.0000 - val_loss: 0.0415 - val_sparse_categorical_accuracy: 0.9922\n",
      "Epoch 195/200\n",
      "\u001b[1m16/16\u001b[0m \u001b[32m━━━━━━━━━━━━━━━━━━━━\u001b[0m\u001b[37m\u001b[0m \u001b[1m0s\u001b[0m 9ms/step - loss: 4.3116e-05 - sparse_categorical_accuracy: 1.0000 - val_loss: 0.0412 - val_sparse_categorical_accuracy: 0.9922\n",
      "Epoch 196/200\n",
      "\u001b[1m16/16\u001b[0m \u001b[32m━━━━━━━━━━━━━━━━━━━━\u001b[0m\u001b[37m\u001b[0m \u001b[1m0s\u001b[0m 7ms/step - loss: 4.3279e-05 - sparse_categorical_accuracy: 1.0000 - val_loss: 0.0411 - val_sparse_categorical_accuracy: 0.9922\n",
      "Epoch 197/200\n",
      "\u001b[1m16/16\u001b[0m \u001b[32m━━━━━━━━━━━━━━━━━━━━\u001b[0m\u001b[37m\u001b[0m \u001b[1m0s\u001b[0m 8ms/step - loss: 4.0474e-05 - sparse_categorical_accuracy: 1.0000 - val_loss: 0.0414 - val_sparse_categorical_accuracy: 0.9922\n",
      "Epoch 198/200\n",
      "\u001b[1m16/16\u001b[0m \u001b[32m━━━━━━━━━━━━━━━━━━━━\u001b[0m\u001b[37m\u001b[0m \u001b[1m0s\u001b[0m 8ms/step - loss: 4.4878e-05 - sparse_categorical_accuracy: 1.0000 - val_loss: 0.0413 - val_sparse_categorical_accuracy: 0.9922\n",
      "Epoch 199/200\n",
      "\u001b[1m16/16\u001b[0m \u001b[32m━━━━━━━━━━━━━━━━━━━━\u001b[0m\u001b[37m\u001b[0m \u001b[1m0s\u001b[0m 9ms/step - loss: 4.0695e-05 - sparse_categorical_accuracy: 1.0000 - val_loss: 0.0417 - val_sparse_categorical_accuracy: 0.9922\n",
      "Epoch 200/200\n",
      "\u001b[1m16/16\u001b[0m \u001b[32m━━━━━━━━━━━━━━━━━━━━\u001b[0m\u001b[37m\u001b[0m \u001b[1m0s\u001b[0m 8ms/step - loss: 4.0601e-05 - sparse_categorical_accuracy: 1.0000 - val_loss: 0.0417 - val_sparse_categorical_accuracy: 0.9922\n"
     ]
    }
   ],
   "source": [
    "#fit the model to the training data\n",
    "history = model.fit(X_train, y_train, validation_data=(X_val, y_val), batch_size=32,epochs=200, verbose=1)"
   ]
  },
  {
   "cell_type": "code",
   "execution_count": 15,
   "id": "bd8207c0",
   "metadata": {},
   "outputs": [
    {
     "name": "stdout",
     "output_type": "stream",
     "text": [
      "\u001b[1m6/6\u001b[0m \u001b[32m━━━━━━━━━━━━━━━━━━━━\u001b[0m\u001b[37m\u001b[0m \u001b[1m0s\u001b[0m 19ms/step\n"
     ]
    }
   ],
   "source": [
    "predictions = model.predict(X_test)\n",
    "_, accuracy = model.evaluate(X_test, y_test, verbose=0)"
   ]
  },
  {
   "cell_type": "code",
   "execution_count": 16,
   "id": "39668b5b",
   "metadata": {},
   "outputs": [
    {
     "name": "stdout",
     "output_type": "stream",
     "text": [
      "predicted:0 ,actual:0\n",
      "predicted:0 ,actual:0\n",
      "predicted:0 ,actual:0\n",
      "predicted:2 ,actual:2\n",
      "predicted:1 ,actual:1\n",
      "predicted:4 ,actual:4\n",
      "predicted:2 ,actual:2\n",
      "predicted:0 ,actual:0\n",
      "predicted:2 ,actual:2\n",
      "predicted:0 ,actual:0\n",
      "predicted:1 ,actual:1\n",
      "predicted:2 ,actual:2\n",
      "predicted:2 ,actual:2\n",
      "predicted:3 ,actual:3\n",
      "predicted:0 ,actual:0\n",
      "predicted:0 ,actual:0\n",
      "predicted:2 ,actual:2\n",
      "predicted:0 ,actual:0\n",
      "predicted:1 ,actual:1\n",
      "predicted:2 ,actual:2\n"
     ]
    }
   ],
   "source": [
    "#get the predictions for the first 20 samples in the test set\n",
    "for index,entry in enumerate(predictions[0:20,:]):\n",
    "    print('predicted:%d ,actual:%d'%(np.argmax(entry),y_test[index]))"
   ]
  },
  {
   "cell_type": "code",
   "execution_count": 17,
   "id": "bb9e6b27",
   "metadata": {},
   "outputs": [
    {
     "data": {
      "image/png": "[encoded data removed]",
      "text/plain": [
       "<Figure size 640x480 with 1 Axes>"
      ]
     },
     "metadata": {},
     "output_type": "display_data"
    }
   ],
   "source": [
    "# summarize history for accuracy\n",
    "plt.plot(history.history['sparse_categorical_accuracy'])\n",
    "plt.plot(history.history['val_sparse_categorical_accuracy'])\n",
    "plt.title('model performance')\n",
    "plt.ylabel('accuracy')\n",
    "plt.xlabel('epoch')\n",
    "plt.legend(['train', 'val'], loc='lower right')\n",
    "plt.show()"
   ]
  },
  {
   "cell_type": "code",
   "execution_count": 18,
   "id": "192ebedc",
   "metadata": {},
   "outputs": [
    {
     "data": {
      "image/png": "[encoded data removed]",
      "text/plain": [
       "<Figure size 640x480 with 1 Axes>"
      ]
     },
     "metadata": {},
     "output_type": "display_data"
    }
   ],
   "source": [
    "# summarize history for loss\n",
    "plt.plot(history.history['loss'])\n",
    "plt.plot(history.history['val_loss'])\n",
    "plt.title('model loss')\n",
    "plt.ylabel('loss')\n",
    "plt.xlabel('epoch')\n",
    "plt.legend(['train', 'val'], loc='lower right')\n",
    "plt.show()"
   ]
  }
 ],
 "metadata": {
  "kernelspec": {
   "display_name": "Python 3 (ipykernel)",
   "language": "python",
   "name": "python3"
  },
  "language_info": {
   "codemirror_mode": {
    "name": "ipython",
    "version": 3
   },
   "file_extension": ".py",
   "mimetype": "text/x-python",
   "name": "python",
   "nbconvert_exporter": "python",
   "pygments_lexer": "ipython3",
   "version": "3.9.13"
  }
 },
 "nbformat": 4,
 "nbformat_minor": 5
}
